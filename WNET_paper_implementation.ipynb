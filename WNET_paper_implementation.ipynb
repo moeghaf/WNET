{
  "nbformat": 4,
  "nbformat_minor": 0,
  "metadata": {
    "colab": {
      "provenance": [],
      "authorship_tag": "ABX9TyNl5szyOjPMAIU4CJ7f/OUf",
      "include_colab_link": true
    },
    "kernelspec": {
      "name": "python3",
      "display_name": "Python 3"
    },
    "language_info": {
      "name": "python"
    }
  },
  "cells": [
    {
      "cell_type": "markdown",
      "metadata": {
        "id": "view-in-github",
        "colab_type": "text"
      },
      "source": [
        "<a href=\"https://colab.research.google.com/github/moeghaf/Deep-unsupervised-segmentation/blob/main/WNET_paper_implementation.ipynb\" target=\"_parent\"><img src=\"https://colab.research.google.com/assets/colab-badge.svg\" alt=\"Open In Colab\"/></a>"
      ]
    },
    {
      "cell_type": "markdown",
      "source": [
        "# WNET - Deep unsupervised segmentation\n",
        "\n",
        "Implementation of WNet https://arxiv.org/pdf/1711.08506.pdf"
      ],
      "metadata": {
        "id": "035Fv5gMPldb"
      }
    },
    {
      "cell_type": "code",
      "execution_count": 6,
      "metadata": {
        "id": "W9GXFrW0Is5u"
      },
      "outputs": [],
      "source": [
        "import torch\n",
        "import torch.nn as nn\n",
        "import tensorflow as tf\n",
        "import pandas as pd\n",
        "import numpy as np"
      ]
    },
    {
      "cell_type": "code",
      "source": [
        "# Build encoder and test training\n",
        "# Implementation from https://arxiv.org/pdf/1711.08506.pdf\n",
        "# Modified to weigh the Ncut loss and reconstruction loss\n",
        "\n",
        "\n",
        "class WNetEncoder(nn.Module):\n",
        "    ''' WNet '''\n",
        "    def __init__(self):\n",
        "        super(WNetEncoder, self).__init__()\n",
        "\n",
        "        self.maxpool = nn.MaxPool2d(2)\n",
        "\n",
        "        # Module 1 - Conv 3x3\n",
        "        self.module1 = torch.nn.Sequential(nn.Conv2d(in_channels=3, out_channels=64, kernel_size=3, padding = 1),\n",
        "                                           nn.ReLU(),\n",
        "                                           nn.BatchNorm2d(64),\n",
        "\n",
        "                                           nn.Conv2d(in_channels=64, out_channels=64, kernel_size=3, padding = 1),\n",
        "                                           nn.ReLU(),\n",
        "                                           nn.BatchNorm2d(64),\n",
        "\n",
        "                                           nn.Conv2d(in_channels=64, out_channels=64, kernel_size=3, padding = 1),\n",
        "                                           nn.ReLU(),\n",
        "                                           nn.BatchNorm2d(64))\n",
        "\n",
        "        # Module2 - separable conv 3x3, defined as a depthwise and point wise convolution\n",
        "        self.module2 = torch.nn.Sequential(nn.Conv2d(in_channels=64, out_channels=128, kernel_size=1),\n",
        "                                           nn.Conv2d(in_channels=128, out_channels=128, kernel_size=3, padding=1, groups=128),\n",
        "                                           nn.ReLU(),\n",
        "                                           nn.BatchNorm2d(128),\n",
        "\n",
        "                                           nn.Conv2d(in_channels=128, out_channels=128, kernel_size=1),\n",
        "                                           nn.Conv2d(in_channels=128, out_channels=128, kernel_size=3, padding=1, groups=128),\n",
        "                                           nn.ReLU(),\n",
        "                                           nn.BatchNorm2d(128))\n",
        "\n",
        "        # Module3 - separable conv 3x3\n",
        "        self.module3 = torch.nn.Sequential(nn.Conv2d(in_channels=128, out_channels=256, kernel_size=1),\n",
        "                                           nn.Conv2d(in_channels=256, out_channels=256, kernel_size=3, padding=1, groups=256),\n",
        "                                           nn.ReLU(),\n",
        "                                           nn.BatchNorm2d(256),\n",
        "\n",
        "                                           nn.Conv2d(in_channels=256, out_channels=256, kernel_size=1),\n",
        "                                           nn.Conv2d(in_channels=256, out_channels=256, kernel_size=3, padding=1, groups=256),\n",
        "                                           nn.ReLU(),\n",
        "                                           nn.BatchNorm2d(256))\n",
        "\n",
        "        # Module 4 - separable conv 3x3\n",
        "        self.module4 = torch.nn.Sequential(nn.Conv2d(in_channels=256, out_channels=512, kernel_size=1),\n",
        "                                           nn.Conv2d(in_channels=512, out_channels=512, kernel_size=3, padding=1, groups=512),\n",
        "                                           nn.ReLU(),\n",
        "                                           nn.BatchNorm2d(512),\n",
        "\n",
        "                                           nn.Conv2d(in_channels=512, out_channels=512, kernel_size=1),\n",
        "                                           nn.Conv2d(in_channels=512, out_channels=512, kernel_size=3, padding=1, groups=512),\n",
        "                                           nn.ReLU(),\n",
        "                                           nn.BatchNorm2d(512))\n",
        "\n",
        "\n",
        "\n",
        "\n",
        "    def forward(self,x):\n",
        "\n",
        "      # Module 1 and maxpool\n",
        "      x = self.module1(x)\n",
        "      x1 = self.maxpool(x)\n",
        "\n",
        "\n",
        "      # Module 2 and maxpool\n",
        "      x1 = self.module2(x1)\n",
        "      x2 = self.module(x1)\n",
        "\n",
        "      # Module 3 and maxpool\n",
        "      x2 = self.module3(x2)\n",
        "      x3 = self.maxpool(x2)\n",
        "\n",
        "\n",
        "\n",
        "\n",
        "\n",
        ""
      ],
      "metadata": {
        "colab": {
          "base_uri": "https://localhost:8080/",
          "height": 140
        },
        "id": "Uh4mGX_1IwrM",
        "outputId": "83106851-c3e7-4858-f2ff-4b33deb1ccfb"
      },
      "execution_count": 66,
      "outputs": [
        {
          "output_type": "error",
          "ename": "IndentationError",
          "evalue": "ignored",
          "traceback": [
            "\u001b[0;36m  File \u001b[0;32m\"<ipython-input-66-24b8e957d42b>\"\u001b[0;36m, line \u001b[0;32m54\u001b[0m\n\u001b[0;31m    nn.Conv2d(in_channels=512, out_channels=512, kernel_size=1),\u001b[0m\n\u001b[0m    ^\u001b[0m\n\u001b[0;31mIndentationError\u001b[0m\u001b[0;31m:\u001b[0m unexpected indent\n"
          ]
        }
      ]
    },
    {
      "cell_type": "code",
      "source": [
        "model = WNetEncoder()\n",
        "x = torch.tensor(np.zeros((1,3,224,224)).astype(np.float32))"
      ],
      "metadata": {
        "id": "E7WW3zlDI15f"
      },
      "execution_count": 62,
      "outputs": []
    },
    {
      "cell_type": "code",
      "source": [
        "x1 = model(x)\n",
        "x1.shape"
      ],
      "metadata": {
        "colab": {
          "base_uri": "https://localhost:8080/"
        },
        "id": "LG-gYtmfPOTo",
        "outputId": "b87d6d22-f28d-4a1c-8131-19d65a511154"
      },
      "execution_count": 63,
      "outputs": [
        {
          "output_type": "execute_result",
          "data": {
            "text/plain": [
              "torch.Size([1, 64, 224, 224])"
            ]
          },
          "metadata": {},
          "execution_count": 63
        }
      ]
    }
  ]
}