{
  "nbformat": 4,
  "nbformat_minor": 0,
  "metadata": {
    "colab": {
      "provenance": [],
      "authorship_tag": "ABX9TyPcfrZnTEDPFKMjVALAz57/",
      "include_colab_link": true
    },
    "kernelspec": {
      "name": "python3",
      "display_name": "Python 3"
    },
    "language_info": {
      "name": "python"
    }
  },
  "cells": [
    {
      "cell_type": "markdown",
      "metadata": {
        "id": "view-in-github",
        "colab_type": "text"
      },
      "source": [
        "<a href=\"https://colab.research.google.com/github/moeghaf/Deep-unsupervised-segmentation/blob/main/WNET_paper_implementation.ipynb\" target=\"_parent\"><img src=\"https://colab.research.google.com/assets/colab-badge.svg\" alt=\"Open In Colab\"/></a>"
      ]
    },
    {
      "cell_type": "markdown",
      "source": [
        "# WNET - Deep unsupervised segmentation\n",
        "\n",
        "Implementation of WNet https://arxiv.org/pdf/1711.08506.pdf"
      ],
      "metadata": {
        "id": "035Fv5gMPldb"
      }
    },
    {
      "cell_type": "code",
      "execution_count": 6,
      "metadata": {
        "id": "W9GXFrW0Is5u"
      },
      "outputs": [],
      "source": [
        "import torch\n",
        "import torch.nn as nn\n",
        "import tensorflow as tf\n",
        "import pandas as pd\n",
        "import numpy as np"
      ]
    },
    {
      "cell_type": "code",
      "source": [
        "def add_conv():\n",
        ""
      ],
      "metadata": {
        "id": "CLILuJvFsSZJ"
      },
      "execution_count": null,
      "outputs": []
    },
    {
      "cell_type": "code",
      "source": [
        "# Build encoder and test training\n",
        "# Implementation from https://arxiv.org/pdf/1711.08506.pdf\n",
        "# Modified to weigh the Ncut loss and reconstruction loss\n",
        "\n",
        "\n",
        "class WNetEncoder(nn.Module):\n",
        "    ''' WNet '''\n",
        "    def __init__(self, k ):\n",
        "        super(WNetEncoder, self).__init__()\n",
        "\n",
        "        self.k = k\n",
        "        self.maxpool = nn.MaxPool2d(2)\n",
        "        self.predconv = nn.Conv2d(224,self.k,1,)\n",
        "        self.softmax = nn.Softmax2d()\n",
        "\n",
        "\n",
        "        def add_conv(in_ch, out_ch):\n",
        "          return torch.nn.Sequential(nn.Conv2d(in_channels=in_ch, out_channels=out_ch, kernel_size=3, padding = 1),\n",
        "                                           nn.ReLU(),\n",
        "                                           nn.BatchNorm2d(out_ch),\n",
        "\n",
        "                                           nn.Conv2d(in_channels=out_ch, out_channels=out_ch, kernel_size=3, padding = 1),\n",
        "                                           nn.ReLU(),\n",
        "                                           nn.BatchNorm2d(out_ch))\n",
        "\n",
        "        def add_sep_conv(in_ch,out_ch):\n",
        "          ''' defined as a depthwise and point wise convolution '''\n",
        "          return torch.nn.Sequential(nn.Conv2d(in_channels=in_ch, out_channels=out_ch, kernel_size=1),\n",
        "                                           nn.Conv2d(in_channels=out_ch, out_channels=out_ch, kernel_size=3, padding=1, groups=out_ch),\n",
        "                                           nn.ReLU(),\n",
        "                                           nn.BatchNorm2d(out_ch),\n",
        "\n",
        "                                           nn.Conv2d(in_channels=out_ch, out_channels=out_ch, kernel_size=1),\n",
        "                                           nn.Conv2d(in_channels=out_ch, out_channels=out_ch, kernel_size=3, padding=1, groups=out_ch),\n",
        "                                           nn.ReLU(),\n",
        "                                           nn.BatchNorm2d(out_ch))\n",
        "\n",
        "        # Module 1 - Conv 3x3\n",
        "        self.module1 = add_conv(3, 64)\n",
        "\n",
        "\n",
        "        # Module2 - separable conv 3x3,\n",
        "        self.module2 = add_sep_conv(64 ,128)\n",
        "\n",
        "        # Module3 - separable conv 3x3\n",
        "        self.module3 =  add_sep_conv(128 , 256)\n",
        "\n",
        "        # Module 4 - separable conv 3x3\n",
        "        self.module4 = add_sep_conv(256 , 512)\n",
        "\n",
        "        # Module 5 - separable conv 3x3 and upconv\n",
        "        self.module5 = add_sep_conv(512 , 1024)\n",
        "        self.upconv5 = torch.nn.Sequential(nn.ConvTranspose2d(1024, 512, 2,2))\n",
        "\n",
        "        # Module 6 - separable conv 3x3 and upconv\n",
        "        self.module6 = add_sep_conv(1024 , 512)\n",
        "        self.upconv6 = torch.nn.Sequential(nn.ConvTranspose2d(512, 256, 2,2))\n",
        "\n",
        "        # Module 7 - separable conv 3x3 and upconv\n",
        "        self.module7 = add_sep_conv(512 , 256)\n",
        "        self.upconv7 = torch.nn.Sequential(nn.ConvTranspose2d(256, 128, 2,2))\n",
        "\n",
        "        # Module 8 - separable conv 3x3 and upconv\n",
        "        self.module8 = add_sep_conv(256 , 128)\n",
        "        self.upconv8 = torch.nn.Sequential(nn.ConvTranspose2d(128, 64, 2,2))\n",
        "\n",
        "        # Module 9\n",
        "        self.module9 = add_conv(128, 64)\n",
        "        self.convK =\n",
        "\n",
        "\n",
        "\n",
        "\n",
        "\n",
        "\n",
        "\n",
        "\n",
        "    def forward(self,x):\n",
        "\n",
        "      # Module 1 and maxpool\n",
        "      x = self.module1(x)\n",
        "      x1 = self.maxpool(x)\n",
        "\n",
        "\n",
        "      # Module 2 and maxpool\n",
        "      x1 = self.module2(x1)\n",
        "      x2 = self.module(x1)\n",
        "\n",
        "      # Module 3 and maxpool\n",
        "      x2 = self.module3(x2)\n",
        "      x3 = self.maxpool(x2)\n",
        "\n",
        "      # Module 4 and maxpool\n",
        "      x3 = self.module4(x3) # Join with output of module 5\n",
        "      x4 = self.maxpool(x3)\n",
        "\n",
        "      # Module 5 and maxpool\n",
        "      x4 = self.module5(x4)\n",
        "      x5 = self.upconv5(x4)\n",
        "\n",
        "      # Skip and module 6\n",
        "      skip1 = torch.concat((x5,x3), dim=1)\n",
        "      x6 = self.module6(skip1)\n",
        "\n",
        "\n",
        "\n",
        "\n",
        "\n",
        "\n",
        "\n",
        "\n",
        "\n",
        "\n",
        ""
      ],
      "metadata": {
        "id": "Uh4mGX_1IwrM"
      },
      "execution_count": 90,
      "outputs": []
    },
    {
      "cell_type": "code",
      "source": [
        "model = WNetEncoder()\n",
        "x = torch.tensor(np.zeros((1,3,224,224)).astype(np.float32))"
      ],
      "metadata": {
        "id": "E7WW3zlDI15f"
      },
      "execution_count": 91,
      "outputs": []
    },
    {
      "cell_type": "code",
      "source": [
        "x = model.module1(x)\n",
        "x1 = model.maxpool(x)\n",
        "\n",
        "\n",
        "# Module 2 and maxpool\n",
        "x1 = model.module2(x1)\n",
        "x2 = model.maxpool(x1)\n",
        "\n",
        "# Module 3 and maxpool\n",
        "x2 = model.module3(x2)\n",
        "x3 = model.maxpool(x2)\n",
        "\n",
        "# Module 4 and maxpool\n",
        "x3 = model.module4(x3) # Join with output of module 5\n",
        "x4 = model.maxpool(x3)\n",
        "\n",
        "# Module 5 and upconv\n",
        "x4 = model.module5(x4)\n",
        "x5 = model.upconv5(x4)\n",
        "\n",
        "# Skip layer into module 6\n",
        "x5 = torch.concat((x5,x3), dim=1)\n",
        "\n",
        "# Module 6 and upconv\n",
        "\n",
        "\n",
        "\n",
        "\n"
      ],
      "metadata": {
        "id": "WJQnBejBdHOv"
      },
      "execution_count": 92,
      "outputs": []
    },
    {
      "cell_type": "code",
      "source": [
        "x5.shape"
      ],
      "metadata": {
        "colab": {
          "base_uri": "https://localhost:8080/"
        },
        "id": "OWPpt0dsdiHW",
        "outputId": "7a27d228-2a7d-4610-eef1-25b8e1d3f18e"
      },
      "execution_count": 93,
      "outputs": [
        {
          "output_type": "execute_result",
          "data": {
            "text/plain": [
              "torch.Size([1, 1024, 28, 28])"
            ]
          },
          "metadata": {},
          "execution_count": 93
        }
      ]
    },
    {
      "cell_type": "code",
      "source": [
        "x5.shape"
      ],
      "metadata": {
        "colab": {
          "base_uri": "https://localhost:8080/"
        },
        "id": "bEUEsS7udgnz",
        "outputId": "73d25c17-4b42-41a3-fda7-a120049fee9a"
      },
      "execution_count": 80,
      "outputs": [
        {
          "output_type": "execute_result",
          "data": {
            "text/plain": [
              "torch.Size([1, 1024, 28, 28])"
            ]
          },
          "metadata": {},
          "execution_count": 80
        }
      ]
    },
    {
      "cell_type": "code",
      "source": [
        "x1 = model(x)\n",
        "x1.shape"
      ],
      "metadata": {
        "colab": {
          "base_uri": "https://localhost:8080/"
        },
        "id": "LG-gYtmfPOTo",
        "outputId": "b87d6d22-f28d-4a1c-8131-19d65a511154"
      },
      "execution_count": 63,
      "outputs": [
        {
          "output_type": "execute_result",
          "data": {
            "text/plain": [
              "torch.Size([1, 64, 224, 224])"
            ]
          },
          "metadata": {},
          "execution_count": 63
        }
      ]
    }
  ]
}