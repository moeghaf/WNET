{
  "nbformat": 4,
  "nbformat_minor": 0,
  "metadata": {
    "colab": {
      "provenance": [],
      "authorship_tag": "ABX9TyMRKY0kVWgX6aypAOmSriXC",
      "include_colab_link": true
    },
    "kernelspec": {
      "name": "python3",
      "display_name": "Python 3"
    },
    "language_info": {
      "name": "python"
    }
  },
  "cells": [
    {
      "cell_type": "markdown",
      "metadata": {
        "id": "view-in-github",
        "colab_type": "text"
      },
      "source": [
        "<a href=\"https://colab.research.google.com/github/moeghaf/Deep-unsupervised-segmentation/blob/main/WNET_paper_implementation.ipynb\" target=\"_parent\"><img src=\"https://colab.research.google.com/assets/colab-badge.svg\" alt=\"Open In Colab\"/></a>"
      ]
    },
    {
      "cell_type": "markdown",
      "source": [
        "# WNET - Deep unsupervised segmentation\n",
        "\n",
        "Implementation of WNet https://arxiv.org/pdf/1711.08506.pdf"
      ],
      "metadata": {
        "id": "035Fv5gMPldb"
      }
    },
    {
      "cell_type": "code",
      "execution_count": 6,
      "metadata": {
        "id": "W9GXFrW0Is5u"
      },
      "outputs": [],
      "source": [
        "import torch\n",
        "import torch.nn as nn\n",
        "import tensorflow as tf\n",
        "import pandas as pd\n",
        "import numpy as np"
      ]
    },
    {
      "cell_type": "code",
      "source": [
        "# Build encoder and test training\n",
        "# Implementation from https://arxiv.org/pdf/1711.08506.pdf\n",
        "# Modified to weigh the Ncut loss and reconstruction loss\n",
        "\n",
        "\n",
        "class WNetEncoder(nn.Module):\n",
        "    ''' WNet '''\n",
        "    def __init__(self):\n",
        "        super(WNetEncoder, self).__init__()\n",
        "\n",
        "        self.maxpool = nn.MaxPool2d(2)\n",
        "\n",
        "        # Module 1 - Conv 3x3\n",
        "        self.module1 = torch.nn.Sequential(nn.Conv2d(in_channels=3, out_channels=64, kernel_size=3, padding = 1),\n",
        "                                           nn.ReLU(),\n",
        "                                           nn.BatchNorm2d(64),\n",
        "\n",
        "                                           nn.Conv2d(in_channels=64, out_channels=64, kernel_size=3, padding = 1),\n",
        "                                           nn.ReLU(),\n",
        "                                           nn.BatchNorm2d(64),\n",
        "\n",
        "                                           nn.Conv2d(in_channels=64, out_channels=64, kernel_size=3, padding = 1),\n",
        "                                           nn.ReLU(),\n",
        "                                           nn.BatchNorm2d(64))\n",
        "\n",
        "        # Module2 - separable conv 3x3, defined as a depthwise and point wise convolution\n",
        "        self.module2 = torch.nn.Sequential(nn.Conv2d(in_channels=64, out_channels=128, kernel_size=1),\n",
        "                                           nn.Conv2d(in_channels=128, out_channels=128, kernel_size=3, padding=1, groups=128),\n",
        "                                           nn.ReLU(),\n",
        "                                           nn.BatchNorm2d(128),\n",
        "\n",
        "                                           nn.Conv2d(in_channels=128, out_channels=128, kernel_size=1),\n",
        "                                           nn.Conv2d(in_channels=128, out_channels=128, kernel_size=3, padding=1, groups=128),\n",
        "                                           nn.ReLU(),\n",
        "                                           nn.BatchNorm2d(128))\n",
        "\n",
        "        # Module3 - separable conv 3x3\n",
        "        self.module3 = torch.nn.Sequential(nn.Conv2d(in_channels=128, out_channels=256, kernel_size=1),\n",
        "                                           nn.Conv2d(in_channels=256, out_channels=256, kernel_size=3, padding=1, groups=256),\n",
        "                                           nn.ReLU(),\n",
        "                                           nn.BatchNorm2d(256),\n",
        "\n",
        "                                           nn.Conv2d(in_channels=256, out_channels=256, kernel_size=1),\n",
        "                                           nn.Conv2d(in_channels=256, out_channels=256, kernel_size=3, padding=1, groups=256),\n",
        "                                           nn.ReLU(),\n",
        "                                           nn.BatchNorm2d(256))\n",
        "\n",
        "        # Module 4 - separable conv 3x3\n",
        "        self.module4 = torch.nn.Sequential(nn.Conv2d(in_channels=256, out_channels=512, kernel_size=1),\n",
        "                                           nn.Conv2d(in_channels=512, out_channels=512, kernel_size=3, padding=1, groups=512),\n",
        "                                           nn.ReLU(),\n",
        "                                           nn.BatchNorm2d(512),\n",
        "\n",
        "                                           nn.Conv2d(in_channels=512, out_channels=512, kernel_size=1),\n",
        "                                           nn.Conv2d(in_channels=512, out_channels=512, kernel_size=3, padding=1, groups=512),\n",
        "                                           nn.ReLU(),\n",
        "                                           nn.BatchNorm2d(512))\n",
        "\n",
        "        # Module 5 - separable conv 3x3\n",
        "        self.module5 = torch.nn.Sequential(nn.Conv2d(in_channels=512, out_channels=1024, kernel_size=1),\n",
        "                                           nn.Conv2d(in_channels=1024, out_channels=1024, kernel_size=3, padding=1, groups=1024),\n",
        "                                           nn.ReLU(),\n",
        "                                           nn.BatchNorm2d(1024),\n",
        "\n",
        "                                           nn.Conv2d(in_channels=1024, out_channels=1024, kernel_size=1),\n",
        "                                           nn.Conv2d(in_channels=1024, out_channels=1024, kernel_size=3, padding=1, groups=1024),\n",
        "                                           nn.ReLU(),\n",
        "                                           nn.BatchNorm2d(1024))\n",
        "\n",
        "        self.upconv5 = torch.nn.Sequential(nn.ConvTranspose2d(1024, 1024, 2,2))\n",
        "\n",
        "        # Module 6 - separable conv 3x3\n",
        "        self.m\n",
        "\n",
        "\n",
        "\n",
        "\n",
        "    def forward(self,x):\n",
        "\n",
        "      # Module 1 and maxpool\n",
        "      x = self.module1(x)\n",
        "      x1 = self.maxpool(x)\n",
        "\n",
        "\n",
        "      # Module 2 and maxpool\n",
        "      x1 = self.module2(x1)\n",
        "      x2 = self.module(x1)\n",
        "\n",
        "      # Module 3 and maxpool\n",
        "      x2 = self.module3(x2)\n",
        "      x3 = self.maxpool(x2)\n",
        "\n",
        "      # Module 4 and maxpool\n",
        "      x3 = self.module4(x3) # Join with output of module 5\n",
        "      x4 = self.maxpool(x3)\n",
        "\n",
        "      # Module 5 and maxpool\n",
        "      x4 = self.module5(x4)\n",
        "      x5 = self.upconv5(x4)\n",
        "\n",
        "      # Add output of 4\n",
        "      #x3\n",
        "\n",
        "\n",
        "\n",
        "\n",
        "\n",
        ""
      ],
      "metadata": {
        "id": "Uh4mGX_1IwrM"
      },
      "execution_count": 74,
      "outputs": []
    },
    {
      "cell_type": "code",
      "source": [
        "model = WNetEncoder()\n",
        "x = torch.tensor(np.zeros((1,3,224,224)).astype(np.float32))"
      ],
      "metadata": {
        "id": "E7WW3zlDI15f"
      },
      "execution_count": 78,
      "outputs": []
    },
    {
      "cell_type": "code",
      "source": [
        "x = model.module1(x)\n",
        "x1 = model.maxpool(x)\n",
        "\n",
        "\n",
        "# Module 2 and maxpool\n",
        "x1 = model.module2(x1)\n",
        "x2 = model.maxpool(x1)\n",
        "\n",
        "# Module 3 and maxpool\n",
        "x2 = model.module3(x2)\n",
        "x3 = model.maxpool(x2)\n",
        "\n",
        "# Module 4 and maxpool\n",
        "x3 = model.module4(x3) # Join with output of module 5\n",
        "x4 = model.maxpool(x3)\n",
        "\n",
        "# Module 5 and upconv\n",
        "x4 = model.module5(x4)\n",
        "x5 = model.upconv5(x4)\n",
        "\n",
        "# Skip layer into module 6\n",
        "x5 = torch.concat((x5,x3), dim=1)\n",
        "# Module 6 and upconv\n",
        "\n",
        "\n",
        "\n",
        "\n"
      ],
      "metadata": {
        "id": "WJQnBejBdHOv"
      },
      "execution_count": 79,
      "outputs": []
    },
    {
      "cell_type": "code",
      "source": [],
      "metadata": {
        "colab": {
          "base_uri": "https://localhost:8080/"
        },
        "id": "OWPpt0dsdiHW",
        "outputId": "ec4d8daf-b10e-412e-fc8d-d90e39989c93"
      },
      "execution_count": 84,
      "outputs": [
        {
          "output_type": "execute_result",
          "data": {
            "text/plain": [
              "tensor([[[[-2.5994e-01, -7.9578e-01,  5.0006e-01,  ..., -3.3107e-01,\n",
              "            3.1169e-01, -5.4255e-01],\n",
              "          [-8.1609e-02, -3.3610e-01, -2.4916e-01,  ..., -7.4583e-01,\n",
              "            4.1038e-01, -9.0952e-01],\n",
              "          [ 5.5636e-01, -2.2577e-01,  3.6912e-01,  ..., -2.7182e-01,\n",
              "           -6.2048e-01,  6.6920e-02],\n",
              "          ...,\n",
              "          [ 4.9273e-01,  9.5852e-01,  8.9347e-02,  ...,  1.2182e+00,\n",
              "            3.1169e-01,  7.4757e-01],\n",
              "          [ 6.5358e-01,  7.9171e-02,  5.9858e-01,  ..., -5.3064e-01,\n",
              "           -7.1281e-01,  5.6261e-01],\n",
              "          [-9.0767e-01, -3.3618e-01, -3.5847e-03,  ...,  1.1084e+00,\n",
              "            6.6298e-01,  6.0464e-01]],\n",
              "\n",
              "         [[-3.4689e-01,  5.7234e-01,  2.2426e-01,  ...,  6.5859e-01,\n",
              "           -3.3813e-01, -1.0753e-01],\n",
              "          [ 4.6524e-01, -2.9018e-02,  2.2370e-01,  ...,  8.2671e-01,\n",
              "           -4.3728e-01,  4.3573e-01],\n",
              "          [ 7.9725e-01,  5.0398e-01,  1.3812e+00,  ..., -5.0382e-01,\n",
              "           -7.5192e-01, -1.7212e-01],\n",
              "          ...,\n",
              "          [ 3.9833e-02,  3.5220e-01,  6.6990e-01,  ...,  6.7644e-01,\n",
              "           -3.7598e-01,  6.7515e-01],\n",
              "          [ 2.5504e-01,  1.8848e-02, -5.4157e-01,  ...,  5.5029e-01,\n",
              "           -6.1826e-01,  1.3311e-02],\n",
              "          [ 2.5419e-01, -2.6501e-01, -6.8666e-01,  ..., -1.2651e+00,\n",
              "            4.9727e-01, -6.6004e-01]],\n",
              "\n",
              "         [[ 5.1421e-01,  5.7660e-01,  1.5941e+00,  ...,  4.4283e-01,\n",
              "            9.9510e-01, -2.1498e-01],\n",
              "          [-1.1720e-01, -1.3186e+00, -1.7685e-01,  ..., -3.4397e-01,\n",
              "           -6.2293e-01, -2.9767e-01],\n",
              "          [ 7.1037e-01, -7.3600e-01,  1.6025e+00,  ..., -5.7020e-01,\n",
              "            1.0168e+00, -3.5502e-01],\n",
              "          ...,\n",
              "          [-7.5540e-02, -7.8969e-01, -8.4774e-01,  ..., -3.5641e-01,\n",
              "           -4.2249e-01, -6.0546e-01],\n",
              "          [ 3.0159e-01, -1.4314e+00,  1.8874e-01,  ..., -6.3612e-01,\n",
              "            5.7838e-01,  1.7734e-01],\n",
              "          [ 2.9790e-01, -7.6006e-01, -3.6389e-01,  ..., -4.0972e-01,\n",
              "            2.2794e-01, -5.4424e-01]],\n",
              "\n",
              "         ...,\n",
              "\n",
              "         [[-1.9866e-01, -1.9866e-01, -1.9866e-01,  ...,  3.0987e+00,\n",
              "            3.4118e+00, -1.9866e-01],\n",
              "          [ 1.3696e+01,  2.0794e+00, -1.9866e-01,  ..., -1.9866e-01,\n",
              "           -1.9866e-01, -1.9866e-01],\n",
              "          [-1.9866e-01, -1.9866e-01, -1.9866e-01,  ..., -1.9866e-01,\n",
              "            1.7035e+00, -1.9866e-01],\n",
              "          ...,\n",
              "          [ 1.8655e+00,  1.2163e+01, -1.9866e-01,  ..., -1.9866e-01,\n",
              "            5.5392e+00,  6.5562e-01],\n",
              "          [ 6.2558e-01,  1.3573e-01, -1.9866e-01,  ..., -1.9866e-01,\n",
              "           -1.9866e-01, -1.9866e-01],\n",
              "          [-1.9866e-01,  2.4958e+00, -1.9866e-01,  ...,  1.9123e+00,\n",
              "            6.7795e+00,  9.9386e+00]],\n",
              "\n",
              "         [[-9.4262e-01, -4.7914e-01,  4.4524e+00,  ..., -9.4262e-01,\n",
              "           -9.4262e-01, -9.4262e-01],\n",
              "          [ 1.3568e+00,  1.5476e+00,  1.0623e+01,  ..., -9.4262e-01,\n",
              "           -9.4262e-01, -9.4262e-01],\n",
              "          [-9.4262e-01,  1.4567e+00,  5.0414e+00,  ..., -9.4262e-01,\n",
              "           -9.4262e-01, -9.4262e-01],\n",
              "          ...,\n",
              "          [-9.4262e-01, -9.4262e-01, -9.4262e-01,  ..., -9.4262e-01,\n",
              "           -9.4262e-01, -9.4262e-01],\n",
              "          [-9.4262e-01, -9.4262e-01, -9.4262e-01,  ..., -9.4262e-01,\n",
              "           -9.4262e-01, -9.4262e-01],\n",
              "          [-9.4262e-01, -9.4262e-01, -9.4262e-01,  ..., -9.4262e-01,\n",
              "           -9.4262e-01, -9.4262e-01]],\n",
              "\n",
              "         [[-5.1166e-01, -5.1166e-01, -5.1166e-01,  ...,  5.7752e+00,\n",
              "            4.7251e-02,  1.2820e-01],\n",
              "          [-4.4459e-01, -5.1166e-01, -5.1166e-01,  ..., -5.1166e-01,\n",
              "            7.4504e+00,  4.8167e+00],\n",
              "          [-5.1166e-01,  3.0283e+00, -5.1166e-01,  ...,  2.8327e+00,\n",
              "            4.3625e+00,  4.4015e+00],\n",
              "          ...,\n",
              "          [-5.1166e-01,  8.9962e+00,  3.5872e+00,  ..., -5.1166e-01,\n",
              "            2.6981e+00,  3.3397e+00],\n",
              "          [-2.1067e-01, -5.1166e-01,  4.8025e+00,  ..., -5.1166e-01,\n",
              "           -5.1166e-01,  2.5811e+00],\n",
              "          [-5.1166e-01, -5.1166e-01, -5.1166e-01,  ...,  3.0955e+00,\n",
              "           -5.1166e-01, -5.1166e-01]]]], grad_fn=<CatBackward0>)"
            ]
          },
          "metadata": {},
          "execution_count": 84
        }
      ]
    },
    {
      "cell_type": "code",
      "source": [
        "x5.shape"
      ],
      "metadata": {
        "colab": {
          "base_uri": "https://localhost:8080/"
        },
        "id": "bEUEsS7udgnz",
        "outputId": "73d25c17-4b42-41a3-fda7-a120049fee9a"
      },
      "execution_count": 80,
      "outputs": [
        {
          "output_type": "execute_result",
          "data": {
            "text/plain": [
              "torch.Size([1, 1024, 28, 28])"
            ]
          },
          "metadata": {},
          "execution_count": 80
        }
      ]
    },
    {
      "cell_type": "code",
      "source": [
        "x1 = model(x)\n",
        "x1.shape"
      ],
      "metadata": {
        "colab": {
          "base_uri": "https://localhost:8080/"
        },
        "id": "LG-gYtmfPOTo",
        "outputId": "b87d6d22-f28d-4a1c-8131-19d65a511154"
      },
      "execution_count": 63,
      "outputs": [
        {
          "output_type": "execute_result",
          "data": {
            "text/plain": [
              "torch.Size([1, 64, 224, 224])"
            ]
          },
          "metadata": {},
          "execution_count": 63
        }
      ]
    }
  ]
}